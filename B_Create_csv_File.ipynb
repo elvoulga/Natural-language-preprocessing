{
 "cells": [
  {
   "cell_type": "markdown",
   "metadata": {},
   "source": [
    "## Natural Language Analytics - Voulgari Eleni\n",
    "\n",
    "### Exercise 1: Pre-processing \n",
    "#### Question B"
   ]
  },
  {
   "cell_type": "markdown",
   "metadata": {},
   "source": [
    "The code below creates a csv file that contains a name, a surname and a title with double quotes in Greek.\n",
    "\n",
    "The above file can be opened direclty in Excel Windows with just double clicking it."
   ]
  },
  {
   "cell_type": "code",
   "execution_count": 1,
   "metadata": {
    "collapsed": true
   },
   "outputs": [],
   "source": [
    "import unicodecsv as csv\n",
    "\n",
    "with open('testfile.csv', 'wb') as testf:\n",
    "    \n",
    "    testf.write(u'\\ufeff'.encode('utf8'))\n",
    "    \n",
    "    testf.write(\"Ελένη;Βούλγαρη;\\\"\\\"\\\"Μεταπτυχιακό στην Επιστήμη Δεδομένων\\\"\\\"\\\"\")\n",
    "    \n",
    "    wrtr = csv.writer(testf, delimiter=';', lineterminator='\\n', dialect='excel', encoding='utf-8')"
   ]
  }
 ],
 "metadata": {
  "kernelspec": {
   "display_name": "Python 2",
   "language": "python",
   "name": "python2"
  },
  "language_info": {
   "codemirror_mode": {
    "name": "ipython",
    "version": 3
   },
   "file_extension": ".py",
   "mimetype": "text/x-python",
   "name": "python",
   "nbconvert_exporter": "python",
   "pygments_lexer": "ipython3",
   "version": "3.6.10"
  }
 },
 "nbformat": 4,
 "nbformat_minor": 2
}
